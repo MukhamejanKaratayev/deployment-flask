{
 "cells": [
  {
   "cell_type": "code",
   "execution_count": 9,
   "metadata": {},
   "outputs": [],
   "source": [
    "import requests"
   ]
  },
  {
   "cell_type": "code",
   "execution_count": 39,
   "metadata": {},
   "outputs": [],
   "source": [
    "customer_id = 'xyz-123'\n",
    "customer = [{\n",
    "    \"customerid\": customer_id,\n",
    "    \"gender\": \"female\",\n",
    "    \"seniorcitizen\": 1,\n",
    "    \"partner\": \"yes\",\n",
    "    \"dependents\": \"yes\",\n",
    "    \"phoneservice\": \"yes\",\n",
    "    \"multiplelines\": \"no_phone_service\",\n",
    "    \"internetservice\": \"dsl\",\n",
    "    \"onlinesecurity\": \"yes\",\n",
    "    \"onlinebackup\": \"yes\",\n",
    "    \"deviceprotection\": \"yes\",\n",
    "    \"techsupport\": \"no\",\n",
    "    \"streamingtv\": \"no\",\n",
    "    \"streamingmovies\": \"no\",\n",
    "    \"contract\": \"month-to-month\",\n",
    "    \"paperlessbilling\": \"yes\",\n",
    "    \"paymentmethod\": \"electronic_check\",\n",
    "    \"tenure\": int(120),\n",
    "    \"monthlycharges\": 209.85,\n",
    "    \"totalcharges\": (24 * 209.85)\n",
    "}]"
   ]
  },
  {
   "cell_type": "code",
   "execution_count": 27,
   "metadata": {},
   "outputs": [],
   "source": [
    "customers = [\n",
    "    {\n",
    "        \"customerid\": \"243435\",\n",
    "        \"gender\": \"female\",\n",
    "        \"seniorcitizen\": 1,\n",
    "        \"partner\": \"yes\",\n",
    "        \"dependents\": \"yes\",\n",
    "        \"phoneservice\": \"yes\",\n",
    "        \"multiplelines\": \"no_phone_service\",\n",
    "        \"internetservice\": \"dsl\",\n",
    "        \"onlinesecurity\": \"yes\",\n",
    "        \"onlinebackup\": \"yes\",\n",
    "        \"deviceprotection\": \"yes\",\n",
    "        \"techsupport\": \"no\",\n",
    "        \"streamingtv\": \"no\",\n",
    "        \"streamingmovies\": \"no\",\n",
    "        \"contract\": \"month-to-month\",\n",
    "        \"paperlessbilling\": \"yes\",\n",
    "        \"paymentmethod\": \"electronic_check\",\n",
    "        \"tenure\": int(120),\n",
    "        \"monthlycharges\": 209.85,\n",
    "        \"totalcharges\": (24 * 209.85)\n",
    "    },\n",
    "    {\n",
    "        \"customerid\": \"657567\",\n",
    "        \"gender\": \"male\",\n",
    "        \"seniorcitizen\": 1,\n",
    "        \"partner\": \"yes\",\n",
    "        \"dependents\": \"yes\",\n",
    "        \"phoneservice\": \"yes\",\n",
    "        \"multiplelines\": \"no_phone_service\",\n",
    "        \"internetservice\": \"dsl\",\n",
    "        \"onlinesecurity\": \"yes\",\n",
    "        \"onlinebackup\": \"yes\",\n",
    "        \"deviceprotection\": \"yes\",\n",
    "        \"techsupport\": \"no\",\n",
    "        \"streamingtv\": \"no\",\n",
    "        \"streamingmovies\": \"no\",\n",
    "        \"contract\": \"month-to-month\",\n",
    "        \"paperlessbilling\": \"yes\",\n",
    "        \"paymentmethod\": \"electronic_check\",\n",
    "        \"tenure\": int(520),\n",
    "        \"monthlycharges\": 1009.85,\n",
    "        \"totalcharges\": (24 * 1009.85)\n",
    "    },\n",
    "    {\n",
    "        \"customerid\": \"768678\",\n",
    "        \"gender\": \"female\",\n",
    "        \"seniorcitizen\": 1,\n",
    "        \"partner\": \"yes\",\n",
    "        \"dependents\": \"yes\",\n",
    "        \"phoneservice\": \"yes\",\n",
    "        \"multiplelines\": \"no_phone_service\",\n",
    "        \"internetservice\": \"dsl\",\n",
    "        \"onlinesecurity\": \"yes\",\n",
    "        \"onlinebackup\": \"yes\",\n",
    "        \"deviceprotection\": \"yes\",\n",
    "        \"techsupport\": \"no\",\n",
    "        \"streamingtv\": \"no\",\n",
    "        \"streamingmovies\": \"no\",\n",
    "        \"contract\": \"one-year\",\n",
    "        \"paperlessbilling\": \"yes\",\n",
    "        \"paymentmethod\": \"electronic_check\",\n",
    "        \"tenure\": int(240),\n",
    "        \"monthlycharges\": 490.85,\n",
    "        \"totalcharges\": (24 * 490.85)\n",
    "    }\n",
    "\n",
    "]"
   ]
  },
  {
   "cell_type": "code",
   "execution_count": 42,
   "metadata": {},
   "outputs": [
    {
     "data": {
      "text/plain": [
       "[{'churn': True,\n",
       "  'churn_probability': 0.49403991744131726,\n",
       "  'customerid': '243435'},\n",
       " {'churn': False,\n",
       "  'churn_probability': 0.10931954597424134,\n",
       "  'customerid': '5467657'},\n",
       " {'churn': False,\n",
       "  'churn_probability': 0.22129318040647866,\n",
       "  'customerid': '879089'}]"
      ]
     },
     "execution_count": 42,
     "metadata": {},
     "output_type": "execute_result"
    }
   ],
   "source": [
    "host = 'churn-prediction-env.eba-22pdr22p.us-east-1.elasticbeanstalk.com'\n",
    "# url = f'http://{host}/predict'\n",
    "url = 'http://127.0.0.1:9696/predict'\n",
    "response = requests.post(url, json=customers).json()\n",
    "response"
   ]
  },
  {
   "cell_type": "code",
   "execution_count": null,
   "metadata": {},
   "outputs": [],
   "source": []
  }
 ],
 "metadata": {
  "kernelspec": {
   "display_name": "env_flask",
   "language": "python",
   "name": "python3"
  },
  "language_info": {
   "codemirror_mode": {
    "name": "ipython",
    "version": 3
   },
   "file_extension": ".py",
   "mimetype": "text/x-python",
   "name": "python",
   "nbconvert_exporter": "python",
   "pygments_lexer": "ipython3",
   "version": "3.10.12"
  },
  "orig_nbformat": 4
 },
 "nbformat": 4,
 "nbformat_minor": 2
}
